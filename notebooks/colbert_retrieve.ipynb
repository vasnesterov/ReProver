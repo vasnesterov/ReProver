{
 "cells": [
  {
   "cell_type": "code",
   "execution_count": null,
   "metadata": {},
   "outputs": [],
   "source": [
    "%load_ext autoreload\n",
    "%autoreload 2"
   ]
  },
  {
   "cell_type": "markdown",
   "metadata": {},
   "source": [
    "# Create ColBERTRetriever"
   ]
  },
  {
   "cell_type": "code",
   "execution_count": null,
   "metadata": {},
   "outputs": [],
   "source": [
    "from reprover.retrieval.colbert.model import ColBERTPremiseRetriever\n",
    "from colbert.modeling.checkpoint import Checkpoint\n",
    "from colbert.infra.config import ColBERTConfig\n",
    "\n",
    "corpus_path = '../data/leandojo_benchmark_4/corpus.jsonl'\n",
    "collection_path = '../data/leandojo_benchmark_4/random/colbert_collection.tsv'\n",
    "checkpoint_path = '../checkpoints/colbertv2.0/'\n",
    "num_negatives = 1\n",
    "num_retrieved = 2\n",
    "\n",
    "config = ColBERTConfig.load_from_checkpoint(checkpoint_path)\n",
    "checkpoint = Checkpoint(checkpoint_path, colbert_config=config)\n",
    "\n",
    "model = ColBERTPremiseRetriever(\n",
    "    index_name='colbert_v1',\n",
    "    experiment_name='lean',\n",
    "    checkpoint_path_or_name=checkpoint_path,\n",
    "    collection=collection_path,\n",
    "    # config: Optional[Union[str, ColBERTConfig]] = None,\n",
    "    index_root='../experiments/',\n",
    "    num_retrieved=num_retrieved\n",
    ")\n",
    "model.load_corpus(corpus_path)"
   ]
  },
  {
   "cell_type": "markdown",
   "metadata": {},
   "source": [
    "## Test corpus reindexing"
   ]
  },
  {
   "cell_type": "code",
   "execution_count": null,
   "metadata": {},
   "outputs": [],
   "source": [
    "# model.reindex_corpus(64)"
   ]
  },
  {
   "cell_type": "markdown",
   "metadata": {},
   "source": [
    "## Test retrieve() function"
   ]
  },
  {
   "cell_type": "code",
   "execution_count": null,
   "metadata": {},
   "outputs": [],
   "source": [
    "from reprover.retrieval.datamodule import ColBERTRetrievalDataModule\n",
    "\n",
    "data_path = \"../data/leandojo_benchmark_4/random/\"\n",
    "\n",
    "data_module = ColBERTRetrievalDataModule(\n",
    "    data_path,\n",
    "    corpus_path,\n",
    "    num_negatives=num_negatives,\n",
    "    num_in_file_negatives=1,\n",
    "    colbert_config=model.config,\n",
    "    batch_size=1,\n",
    "    eval_batch_size=1,\n",
    "    max_seq_len=128,\n",
    "    verbose=3,\n",
    "    num_workers=0\n",
    ")\n",
    "data_module.setup()\n",
    "\n",
    "example = data_module.ds_val.data[0]\n",
    "ctx = example['context']\n",
    "\n",
    "\n",
    "inputs = dict(\n",
    "    state=[ctx.state],\n",
    "    file_name=[ctx.path],\n",
    "    theorem_full_name=[ctx.theorem_full_name],\n",
    "    theorem_pos=[ctx.theorem_pos]\n",
    ")"
   ]
  },
  {
   "cell_type": "code",
   "execution_count": null,
   "metadata": {},
   "outputs": [],
   "source": [
    "ranking, premises, scores = model.retrieve(\n",
    "    **inputs,\n",
    "    k=2,\n",
    "    reindex_batch_size=32,\n",
    "    do_reindex=False\n",
    ")"
   ]
  },
  {
   "cell_type": "code",
   "execution_count": null,
   "metadata": {},
   "outputs": [],
   "source": [
    "premises, scores"
   ]
  },
  {
   "cell_type": "markdown",
   "metadata": {},
   "source": [
    "## Test retrieve_from_preprocessed() function"
   ]
  },
  {
   "cell_type": "code",
   "execution_count": null,
   "metadata": {},
   "outputs": [],
   "source": [
    "batch = next(iter(data_module.val_dataloader()))"
   ]
  },
  {
   "cell_type": "code",
   "execution_count": null,
   "metadata": {},
   "outputs": [],
   "source": [
    "model.retrieve_from_preprocessed(batch)"
   ]
  }
 ],
 "metadata": {
  "kernelspec": {
   "display_name": "Python 3 (ipykernel)",
   "language": "python",
   "name": "python3"
  },
  "language_info": {
   "codemirror_mode": {
    "name": "ipython",
    "version": 3
   },
   "file_extension": ".py",
   "mimetype": "text/x-python",
   "name": "python",
   "nbconvert_exporter": "python",
   "pygments_lexer": "ipython3",
   "version": "3.10.13"
  }
 },
 "nbformat": 4,
 "nbformat_minor": 2
}
