{
 "cells": [
  {
   "cell_type": "code",
   "execution_count": 1,
   "metadata": {},
   "outputs": [],
   "source": [
    "%load_ext autoreload\n",
    "%autoreload 2"
   ]
  },
  {
   "cell_type": "code",
   "execution_count": 2,
   "metadata": {},
   "outputs": [],
   "source": [
    "from reprover.retrieval.colbert.indexer import ColBERTIndexer\n",
    "from colbert.modeling.checkpoint import Checkpoint\n",
    "from colbert.infra.config import ColBERTConfig\n",
    "\n",
    "\n",
    "collection_path = '../data/leandojo_benchmark_4/novel_premises/colbert_collection.tsv'\n",
    "checkpoint_path = '../checkpoints/colbertv2.0/'\n",
    "\n",
    "config = ColBERTConfig.load_from_checkpoint(checkpoint_path)\n",
    "checkpoint = Checkpoint(checkpoint_path, colbert_config=config)\n",
    "\n",
    "indexer = ColBERTIndexer(\n",
    "    index_root='../experiments/',\n",
    "    checkpoint=checkpoint\n",
    ")\n",
    "indexer.configure(\n",
    "    index_bsize=128,\n",
    "    root='../experiments/',\n",
    "    experiment='test'\n",
    ")"
   ]
  },
  {
   "cell_type": "code",
   "execution_count": 3,
   "metadata": {},
   "outputs": [
    {
     "data": {
      "text/plain": [
       "'../experiments/test/indexes/'"
      ]
     },
     "execution_count": 3,
     "metadata": {},
     "output_type": "execute_result"
    }
   ],
   "source": [
    "indexer.config.index_root_"
   ]
  },
  {
   "cell_type": "code",
   "execution_count": 4,
   "metadata": {},
   "outputs": [
    {
     "name": "stdout",
     "output_type": "stream",
     "text": [
      "\n",
      "\n",
      "[Mar 16, 18:30:29] #> Note: Output directory ../experiments/test/indexes/test already exists\n",
      "\n",
      "\n",
      "{\n",
      "    \"query_token_id\": \"[unused0]\",\n",
      "    \"doc_token_id\": \"[unused1]\",\n",
      "    \"query_token\": \"[Q]\",\n",
      "    \"doc_token\": \"[D]\",\n",
      "    \"ncells\": null,\n",
      "    \"centroid_score_threshold\": null,\n",
      "    \"ndocs\": null,\n",
      "    \"load_index_with_mmap\": false,\n",
      "    \"index_path\": null,\n",
      "    \"index_bsize\": 128,\n",
      "    \"nbits\": 1,\n",
      "    \"kmeans_niters\": 20,\n",
      "    \"resume\": false,\n",
      "    \"similarity\": \"cosine\",\n",
      "    \"bsize\": 64,\n",
      "    \"accumsteps\": 1,\n",
      "    \"lr\": 1e-5,\n",
      "    \"maxsteps\": 400000,\n",
      "    \"save_every\": null,\n",
      "    \"warmup\": 20000,\n",
      "    \"warmup_bert\": null,\n",
      "    \"relu\": false,\n",
      "    \"nway\": 64,\n",
      "    \"use_ib_negatives\": true,\n",
      "    \"reranker\": false,\n",
      "    \"distillation_alpha\": 1.0,\n",
      "    \"ignore_scores\": false,\n",
      "    \"model_name\": null,\n",
      "    \"query_maxlen\": 32,\n",
      "    \"attend_to_mask_tokens\": false,\n",
      "    \"interaction\": \"colbert\",\n",
      "    \"dim\": 128,\n",
      "    \"doc_maxlen\": 180,\n",
      "    \"mask_punctuation\": true,\n",
      "    \"checkpoint\": \"..\\/checkpoints\\/colbertv2.0\\/\",\n",
      "    \"triples\": \"\\/future\\/u\\/okhattab\\/root\\/unit\\/experiments\\/2021.10\\/downstream.distillation.round2.2_score\\/round2.nway6.cosine.ib\\/examples.64.json\",\n",
      "    \"collection\": \"..\\/data\\/leandojo_benchmark_4\\/novel_premises\\/colbert_collection.tsv\",\n",
      "    \"queries\": \"\\/future\\/u\\/okhattab\\/data\\/MSMARCO\\/queries.train.tsv\",\n",
      "    \"index_name\": \"test\",\n",
      "    \"overwrite\": false,\n",
      "    \"root\": \"..\\/experiments\\/\",\n",
      "    \"experiment\": \"test\",\n",
      "    \"index_root\": null,\n",
      "    \"name\": \"2024-03\\/16\\/18.30.26\",\n",
      "    \"rank\": 0,\n",
      "    \"nranks\": 1,\n",
      "    \"amp\": true,\n",
      "    \"gpus\": 1,\n",
      "    \"avoid_fork_if_possible\": false\n",
      "}\n",
      "[Mar 16, 18:30:29] #> Loading collection...\n",
      "[Mar 16, 18:30:29] [0] \t\t # of sampled PIDs = 40237 \t sampled_pids[:3] = [16992, 19763, 45822]\n",
      "[Mar 16, 18:30:29] [0] \t\t #> Encoding 40237 passages..\n"
     ]
    },
    {
     "name": "stdout",
     "output_type": "stream",
     "text": [
      "[Mar 16, 18:31:28] [0] \t\t avg_doclen_est = 40.846656799316406 \t len(local_sample) = 40,237\n",
      "[Mar 16, 18:31:29] [0] \t\t Creating 16,384 partitions.\n",
      "[Mar 16, 18:31:29] [0] \t\t *Estimated* 2,152,700 embeddings.\n",
      "[Mar 16, 18:31:29] [0] \t\t #> Saving the indexing plan to ../experiments/test/indexes/test/plan.json ..\n",
      "Clustering 1593547 points in 128D to 16384 clusters, redo 1 times, 20 iterations\n",
      "  Preprocessing in 0.09 s\n",
      "  Iteration 19 (18.57 s, search 17.70 s): objective=144924 imbalance=1.411 nsplit=0       \n",
      "[Mar 16, 18:31:48] Loading decompress_residuals_cpp extension (set COLBERT_LOAD_TORCH_EXTENSION_VERBOSE=True for more info)...\n",
      "[Mar 16, 18:31:48] Loading packbits_cpp extension (set COLBERT_LOAD_TORCH_EXTENSION_VERBOSE=True for more info)...\n",
      "[0.022, 0.021, 0.021, 0.02, 0.019, 0.022, 0.02, 0.019, 0.02, 0.021, 0.02, 0.02, 0.019, 0.021, 0.021, 0.022, 0.019, 0.02, 0.021, 0.02, 0.021, 0.02, 0.021, 0.021, 0.02, 0.02, 0.02, 0.022, 0.02, 0.021, 0.019, 0.021, 0.022, 0.02, 0.02, 0.02, 0.022, 0.02, 0.019, 0.022, 0.021, 0.02, 0.021, 0.02, 0.02, 0.019, 0.02, 0.023, 0.021, 0.021, 0.022, 0.02, 0.021, 0.022, 0.02, 0.021, 0.022, 0.02, 0.021, 0.02, 0.021, 0.02, 0.021, 0.021, 0.021, 0.022, 0.02, 0.02, 0.019, 0.02, 0.021, 0.02, 0.021, 0.02, 0.019, 0.021, 0.021, 0.022, 0.021, 0.021, 0.021, 0.021, 0.02, 0.02, 0.019, 0.02, 0.019, 0.021, 0.019, 0.022, 0.02, 0.022, 0.02, 0.021, 0.019, 0.021, 0.022, 0.02, 0.021, 0.019, 0.021, 0.019, 0.021, 0.02, 0.021, 0.02, 0.02, 0.02, 0.022, 0.02, 0.02, 0.023, 0.022, 0.021, 0.021, 0.021, 0.021, 0.02, 0.021, 0.021, 0.02, 0.019, 0.022, 0.021, 0.02, 0.022, 0.021, 0.02]\n",
      "[Mar 16, 18:31:48] #> Got bucket_cutoffs_quantiles = tensor([0.5000], device='cuda:0') and bucket_weights_quantiles = tensor([0.2500, 0.7500], device='cuda:0')\n",
      "[Mar 16, 18:31:48] #> Got bucket_cutoffs = tensor([-0.0002], device='cuda:0') and bucket_weights = tensor([-0.0159,  0.0155], device='cuda:0')\n",
      "[Mar 16, 18:31:48] avg_residual = 0.0205841064453125\n"
     ]
    },
    {
     "name": "stderr",
     "output_type": "stream",
     "text": [
      "0it [00:00, ?it/s]"
     ]
    },
    {
     "name": "stdout",
     "output_type": "stream",
     "text": [
      "[Mar 16, 18:31:48] [0] \t\t #> Encoding 25000 passages..\n",
      "[Mar 16, 18:32:25] [0] \t\t #> Saving chunk 0: \t 25,000 passages and 975,784 embeddings. From #0 onward.\n"
     ]
    },
    {
     "name": "stderr",
     "output_type": "stream",
     "text": [
      "1it [00:36, 36.84s/it]"
     ]
    },
    {
     "name": "stdout",
     "output_type": "stream",
     "text": [
      "[Mar 16, 18:32:25] [0] \t\t #> Encoding 25000 passages..\n",
      "[Mar 16, 18:33:02] [0] \t\t #> Saving chunk 1: \t 25,000 passages and 1,051,636 embeddings. From #25,000 onward.\n"
     ]
    },
    {
     "name": "stderr",
     "output_type": "stream",
     "text": [
      "2it [01:14, 37.30s/it]"
     ]
    },
    {
     "name": "stdout",
     "output_type": "stream",
     "text": [
      "[Mar 16, 18:33:03] [0] \t\t #> Encoding 2702 passages..\n",
      "[Mar 16, 18:33:07] [0] \t\t #> Saving chunk 2: \t 2,702 passages and 126,183 embeddings. From #50,000 onward.\n"
     ]
    },
    {
     "name": "stderr",
     "output_type": "stream",
     "text": [
      "3it [01:18, 26.21s/it]"
     ]
    },
    {
     "name": "stdout",
     "output_type": "stream",
     "text": [
      "[Mar 16, 18:33:07] [0] \t\t #> Checking all files were saved...\n",
      "[Mar 16, 18:33:07] [0] \t\t Found all files!\n",
      "[Mar 16, 18:33:07] [0] \t\t #> Building IVF...\n",
      "[Mar 16, 18:33:07] [0] \t\t #> Loading codes...\n"
     ]
    },
    {
     "name": "stderr",
     "output_type": "stream",
     "text": [
      "\n",
      "100%|██████████| 3/3 [00:00<00:00, 995.09it/s]"
     ]
    },
    {
     "name": "stdout",
     "output_type": "stream",
     "text": [
      "[Mar 16, 18:33:07] [0] \t\t Sorting codes...\n",
      "[Mar 16, 18:33:07] [0] \t\t Getting unique codes...\n",
      "[Mar 16, 18:33:07] #> Optimizing IVF to store map from centroids to list of pids..\n",
      "[Mar 16, 18:33:07] #> Building the emb2pid mapping..\n",
      "[Mar 16, 18:33:07] len(emb2pid) = 2153603\n"
     ]
    },
    {
     "name": "stderr",
     "output_type": "stream",
     "text": [
      "\n",
      "100%|██████████| 16384/16384 [00:00<00:00, 83939.87it/s]\n"
     ]
    },
    {
     "name": "stdout",
     "output_type": "stream",
     "text": [
      "[Mar 16, 18:33:07] #> Saved optimized IVF to ../experiments/test/indexes/test/ivf.pid.pt\n",
      "[Mar 16, 18:33:07] [0] \t\t #> Saving the indexing metadata to ../experiments/test/indexes/test/metadata.json ..\n"
     ]
    },
    {
     "data": {
      "text/plain": [
       "'../experiments/test/indexes/test'"
      ]
     },
     "execution_count": 4,
     "metadata": {},
     "output_type": "execute_result"
    }
   ],
   "source": [
    "indexer.index('test', collection=collection_path, overwrite=True)"
   ]
  },
  {
   "cell_type": "code",
   "execution_count": null,
   "metadata": {},
   "outputs": [],
   "source": []
  }
 ],
 "metadata": {
  "kernelspec": {
   "display_name": "Python 3 (ipykernel)",
   "language": "python",
   "name": "python3"
  },
  "language_info": {
   "codemirror_mode": {
    "name": "ipython",
    "version": 3
   },
   "file_extension": ".py",
   "mimetype": "text/x-python",
   "name": "python",
   "nbconvert_exporter": "python",
   "pygments_lexer": "ipython3",
   "version": "3.10.13"
  }
 },
 "nbformat": 4,
 "nbformat_minor": 2
}
