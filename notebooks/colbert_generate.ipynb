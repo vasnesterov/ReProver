{
 "cells": [
  {
   "cell_type": "code",
   "execution_count": 3,
   "metadata": {},
   "outputs": [],
   "source": [
    "%load_ext autoreload\n",
    "%autoreload 2"
   ]
  },
  {
   "cell_type": "code",
   "execution_count": 4,
   "metadata": {},
   "outputs": [],
   "source": [
    "model_name = \"kaiyuy/leandojo-lean3-retriever-tacgen-byt5-small\"\n",
    "device = 'cuda'\n",
    "num_retrieved = 2"
   ]
  },
  {
   "cell_type": "code",
   "execution_count": null,
   "metadata": {},
   "outputs": [],
   "source": [
    "from reprover.retrieval.datamodule import RetrievalDataset\n",
    "from reprover.common import Corpus\n",
    "\n",
    "corpus_path = '../data/leandojo_benchmark_4/corpus.jsonl'\n",
    "premises_paths_list = [\"../data/leandojo_benchmark_4/random/train.json\",\n",
    "                       \"../data/leandojo_benchmark_4/random/val.json\",\n",
    "                       \"../data/leandojo_benchmark_4/random/test.json\"]\n",
    "\n",
    "corpus = Corpus(corpus_path)\n",
    "\n",
    "retrieval_dataset = RetrievalDataset(\n",
    "    premises_paths_list,\n",
    "    True,\n",
    "    corpus,\n",
    "    num_negatives=1,\n",
    "    num_in_file_negatives=1,\n",
    "    max_seq_len=None,\n",
    "    context_tokenizer=None,\n",
    "    premise_tokenizer=None,\n",
    "    is_train=True,\n",
    ")\n",
    "\n",
    "example = retrieval_dataset.data[0]\n",
    "ctx = example['context']\n",
    "\n",
    "\n",
    "inputs = dict(\n",
    "    state=[ctx.state],\n",
    "    file_name=[ctx.path],\n",
    "    theorem_full_name=[ctx.theorem_full_name],\n",
    "    theorem_pos=[ctx.theorem_pos]\n",
    ")"
   ]
  },
  {
   "cell_type": "code",
   "execution_count": 6,
   "metadata": {},
   "outputs": [
    {
     "name": "stderr",
     "output_type": "stream",
     "text": [
      "\u001b[32m2024-03-16 17:12:19.391\u001b[0m | \u001b[1mINFO    \u001b[0m | \u001b[36mreprover.retrieval.model\u001b[0m:\u001b[36mreindex_corpus\u001b[0m:\u001b[36m128\u001b[0m - \u001b[1mRe-indexing the retrieval corpus\u001b[0m\n",
      "100%|██████████| 4/4 [00:01<00:00,  2.65it/s]\n"
     ]
    },
    {
     "data": {
      "text/plain": [
       "([[Premise(path='lake-packages/lean4/src/lean/Init/Prelude.lean', full_name='NonemptyType.type', code='abbrev NonemptyType.type (type : NonemptyType.{u}) : Type u :=\\n  type.val'),\n",
       "   Premise(path='lake-packages/lean4/src/lean/Init/Prelude.lean', full_name='Classical.ofNonempty', code='noncomputable def Classical.ofNonempty {α : Sort u} [Nonempty α] : α :=\\n  Classical.choice inferInstance')]],\n",
       " [[0.6735717058181763, 0.6651866436004639]])"
      ]
     },
     "execution_count": 6,
     "metadata": {},
     "output_type": "execute_result"
    }
   ],
   "source": [
    "from reprover.retrieval.model import PremiseRetriever\n",
    "\n",
    "retriever = PremiseRetriever(\n",
    "    model_name=model_name,\n",
    "    lr=3e-4,\n",
    "    warmup_steps=1000,\n",
    "    max_seq_len=1024,\n",
    "    num_retrieved=num_retrieved\n",
    ").to(device)\n",
    "retriever.load_corpus(corpus_path)\n",
    "retriever.corpus.all_premises = retriever.corpus.all_premises[:100]\n",
    "\n",
    "retriever.retrieve(\n",
    "    **inputs,\n",
    "    k=2,\n",
    "    reindex_batch_size=32\n",
    ")"
   ]
  },
  {
   "cell_type": "code",
   "execution_count": null,
   "metadata": {},
   "outputs": [],
   "source": [
    "from reprover.retrieval.colbert.model import ColBERTPremiseRetriever\n",
    "\n",
    "collection_path = '../data/leandojo_benchmark_4/novel_premises/colbert_collection.tsv'\n",
    "\n",
    "retriever = ColBERTPremiseRetriever(\n",
    "    index_path=index_path,\n",
    "    checkpoint_path_or_name=,\n",
    "    collection=collection_path,\n",
    "    num_retrieved=num_retrieved,\n",
    ")\n",
    "\n",
    "retriever.load_corpus(corpus_path)\n",
    "retriever.retrieve(\n",
    "    **inputs,\n",
    "    k=2,\n",
    "    reindex_batch_size=32\n",
    ")"
   ]
  },
  {
   "cell_type": "code",
   "execution_count": null,
   "metadata": {},
   "outputs": [],
   "source": []
  }
 ],
 "metadata": {
  "kernelspec": {
   "display_name": "Python 3 (ipykernel)",
   "language": "python",
   "name": "python3"
  },
  "language_info": {
   "codemirror_mode": {
    "name": "ipython",
    "version": 3
   },
   "file_extension": ".py",
   "mimetype": "text/x-python",
   "name": "python",
   "nbconvert_exporter": "python",
   "pygments_lexer": "ipython3",
   "version": "3.10.13"
  }
 },
 "nbformat": 4,
 "nbformat_minor": 2
}
