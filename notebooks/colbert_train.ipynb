{
 "cells": [
  {
   "cell_type": "code",
   "execution_count": 1,
   "metadata": {},
   "outputs": [],
   "source": [
    "%load_ext autoreload\n",
    "%autoreload 2"
   ]
  },
  {
   "cell_type": "code",
   "execution_count": 2,
   "metadata": {},
   "outputs": [
    {
     "name": "stdout",
     "output_type": "stream",
     "text": [
      "[2024-04-07 17:24:46,209] [INFO] [real_accelerator.py:191:get_accelerator] Setting ds_accelerator to cuda (auto detect)\n",
      "[Apr 07, 17:24:47] #> Loading collection...\n",
      "[Apr 07, 17:24:47] #> Loading codec...\n",
      "[Apr 07, 17:24:47] Loading decompress_residuals_cpp extension (set COLBERT_LOAD_TORCH_EXTENSION_VERBOSE=True for more info)...\n",
      "[Apr 07, 17:24:47] Loading packbits_cpp extension (set COLBERT_LOAD_TORCH_EXTENSION_VERBOSE=True for more info)...\n",
      "[Apr 07, 17:24:47] #> Loading IVF...\n",
      "[Apr 07, 17:24:47] #> Loading doclens...\n"
     ]
    },
    {
     "name": "stderr",
     "output_type": "stream",
     "text": [
      "100%|██████████| 7/7 [00:00<00:00, 2699.29it/s]"
     ]
    },
    {
     "name": "stdout",
     "output_type": "stream",
     "text": [
      "[Apr 07, 17:24:47] #> Loading codes and residuals...\n"
     ]
    },
    {
     "name": "stderr",
     "output_type": "stream",
     "text": [
      "\n",
      "100%|██████████| 7/7 [00:00<00:00, 161.29it/s]\n"
     ]
    }
   ],
   "source": [
    "from pathlib import Path\n",
    "from reprover.retrieval.colbert_retrieval.model import ColBERTPremiseRetrieverLightning\n",
    "\n",
    "corpus_path = Path(\"../data/leandojo_benchmark_4/corpus.jsonl\")\n",
    "collection_path = Path(\"../data/leandojo_benchmark_4/random/collection.tsv\")\n",
    "checkpoint_path = Path(\"../checkpoints/colbertv2.0/\")\n",
    "\n",
    "model = ColBERTPremiseRetrieverLightning(\n",
    "    index_name=\"colbert_v1\",\n",
    "    experiment_name=\"lean\",\n",
    "    checkpoint_path_or_name=checkpoint_path.as_posix(),\n",
    "    collection=collection_path.as_posix(),\n",
    "    index_root=\"../experiments/\",\n",
    "    num_retrieved=2,\n",
    ")\n",
    "# model.load_corpus(corpus_path)"
   ]
  },
  {
   "cell_type": "code",
   "execution_count": 3,
   "metadata": {},
   "outputs": [
    {
     "name": "stdout",
     "output_type": "stream",
     "text": [
      "[Apr 07, 17:25:53] #> Loading collection...\n",
      "[Apr 07, 17:25:53] #> Loading collection...\n",
      "[Apr 07, 17:26:06] #> Loading collection...\n"
     ]
    }
   ],
   "source": [
    "from reprover.retrieval.colbert_retrieval.datamodule import ColBERTDataModule\n",
    "\n",
    "datamodule = ColBERTDataModule(\n",
    "    config=model.config,\n",
    "    data_path=collection_path.parent,\n",
    "    batch_size=2,\n",
    "    eval_batch_size=2,\n",
    "    max_seq_len=100,\n",
    "    num_workers=0,\n",
    ")\n",
    "datamodule.setup()"
   ]
  },
  {
   "cell_type": "code",
   "execution_count": 11,
   "metadata": {},
   "outputs": [],
   "source": [
    "for batch in datamodule.train_dataloader():\n",
    "    break"
   ]
  },
  {
   "cell_type": "code",
   "execution_count": 12,
   "metadata": {},
   "outputs": [],
   "source": [
    "import torch\n",
    "\n",
    "\n",
    "with torch.no_grad():\n",
    "    out = model(batch)"
   ]
  },
  {
   "cell_type": "code",
   "execution_count": 14,
   "metadata": {},
   "outputs": [
    {
     "name": "stderr",
     "output_type": "stream",
     "text": [
      "/home/yeahrmek/miniconda3/envs/python310/lib/python3.10/site-packages/pytorch_lightning/core/module.py:436: You are trying to `self.log()` but the `self.trainer` reference is not registered on the model yet. This is most likely because the model hasn't been passed to the `Trainer`\n"
     ]
    },
    {
     "data": {
      "text/plain": [
       "tensor(17.1627, device='cuda:0', grad_fn=<AddBackward0>)"
      ]
     },
     "execution_count": 14,
     "metadata": {},
     "output_type": "execute_result"
    }
   ],
   "source": [
    "model.training_step(batch)"
   ]
  },
  {
   "cell_type": "code",
   "execution_count": null,
   "metadata": {},
   "outputs": [],
   "source": []
  }
 ],
 "metadata": {
  "kernelspec": {
   "display_name": "python310",
   "language": "python",
   "name": "python3"
  },
  "language_info": {
   "codemirror_mode": {
    "name": "ipython",
    "version": 3
   },
   "file_extension": ".py",
   "mimetype": "text/x-python",
   "name": "python",
   "nbconvert_exporter": "python",
   "pygments_lexer": "ipython3",
   "version": "3.10.13"
  }
 },
 "nbformat": 4,
 "nbformat_minor": 2
}
