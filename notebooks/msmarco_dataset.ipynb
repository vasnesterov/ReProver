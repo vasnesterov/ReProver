{
 "cells": [
  {
   "cell_type": "code",
   "execution_count": 1,
   "metadata": {},
   "outputs": [],
   "source": [
    "%load_ext autoreload\n",
    "%autoreload 2"
   ]
  },
  {
   "cell_type": "code",
   "execution_count": 2,
   "metadata": {},
   "outputs": [],
   "source": [
    "from datasets import load_dataset"
   ]
  },
  {
   "cell_type": "code",
   "execution_count": 3,
   "metadata": {},
   "outputs": [],
   "source": [
    "msmarco = load_dataset(\"ms_marco\", \"v1.1\")"
   ]
  },
  {
   "cell_type": "markdown",
   "metadata": {},
   "source": [
    "### Collection"
   ]
  },
  {
   "cell_type": "code",
   "execution_count": 4,
   "metadata": {},
   "outputs": [
    {
     "name": "stderr",
     "output_type": "stream",
     "text": [
      "100%|██████████| 10047/10047 [00:00<00:00, 310960.86it/s]\n",
      "100%|██████████| 82326/82326 [00:00<00:00, 273213.88it/s]\n",
      "100%|██████████| 9650/9650 [00:00<00:00, 253965.78it/s]\n"
     ]
    }
   ],
   "source": [
    "import tqdm\n",
    "\n",
    "\n",
    "all_passages = set()\n",
    "for split, ds in msmarco.items():\n",
    "    for row in tqdm.tqdm(ds[\"passages\"]):\n",
    "        for passage in row[\"passage_text\"]:\n",
    "            all_passages.add(passage)\n",
    "\n",
    "all_passages = sorted(all_passages)\n",
    "passage_map = {txt: i for i, txt in enumerate(all_passages)}"
   ]
  },
  {
   "cell_type": "code",
   "execution_count": 5,
   "metadata": {},
   "outputs": [],
   "source": [
    "import pandas as pd\n",
    "\n",
    "collection = pd.DataFrame(all_passages, columns=[\"passage\"])\n",
    "collection[\"pid\"] = list(range(len(all_passages)))\n",
    "collection = collection[[\"pid\", \"passage\"]]\n",
    "collection.to_csv(\"../data/msmarco/collection.tsv\", sep=\"\\t\", index=False, header=False)"
   ]
  },
  {
   "cell_type": "markdown",
   "metadata": {},
   "source": [
    "### Queries"
   ]
  },
  {
   "cell_type": "code",
   "execution_count": 6,
   "metadata": {},
   "outputs": [
    {
     "name": "stderr",
     "output_type": "stream",
     "text": [
      "  0%|          | 0/10047 [00:00<?, ?it/s]"
     ]
    },
    {
     "name": "stderr",
     "output_type": "stream",
     "text": [
      "100%|██████████| 10047/10047 [00:00<00:00, 14306.38it/s]\n",
      "100%|██████████| 82326/82326 [00:05<00:00, 14608.10it/s]\n",
      "100%|██████████| 9650/9650 [00:00<00:00, 15054.79it/s]\n"
     ]
    }
   ],
   "source": [
    "import jsonlines\n",
    "\n",
    "\n",
    "for split, ds in msmarco.items():\n",
    "    queries = []\n",
    "    for row in tqdm.tqdm(ds):\n",
    "        queries.append({\"qid\": row[\"query_id\"], \"question\": row[\"query\"]})\n",
    "\n",
    "    with jsonlines.open(f\"../data/msmarco/queries_{split}.json\", \"w\") as fh:\n",
    "        for row in queries:\n",
    "            fh.write(row)"
   ]
  },
  {
   "cell_type": "markdown",
   "metadata": {},
   "source": [
    "### Triples"
   ]
  },
  {
   "cell_type": "code",
   "execution_count": 7,
   "metadata": {},
   "outputs": [
    {
     "name": "stderr",
     "output_type": "stream",
     "text": [
      "  0%|          | 0/10047 [00:00<?, ?it/s]"
     ]
    },
    {
     "name": "stderr",
     "output_type": "stream",
     "text": [
      "100%|██████████| 10047/10047 [00:01<00:00, 6570.98it/s]\n",
      "100%|██████████| 82326/82326 [00:11<00:00, 7247.41it/s]\n",
      "100%|██████████| 9650/9650 [00:01<00:00, 8280.19it/s]\n"
     ]
    }
   ],
   "source": [
    "import numpy as np\n",
    "import tqdm\n",
    "\n",
    "np.random.seed(1234)\n",
    "\n",
    "\n",
    "nway = 64\n",
    "pids_shuffled = np.random.permutation(len(all_passages))\n",
    "p_ptr = 0\n",
    "for split, ds in msmarco.items():\n",
    "    triples = []\n",
    "    if split == \"validation\":\n",
    "        split = \"val\"\n",
    "    for row in tqdm.tqdm(ds):\n",
    "        passages = row[\"passages\"]\n",
    "        is_selected = np.array(passages[\"is_selected\"], dtype=bool)\n",
    "        if not is_selected.sum():\n",
    "            positive_pid = len(all_passages)\n",
    "        else:\n",
    "            positive_pid = passage_map[passages[\"passage_text\"][np.where(is_selected)[0][0]]]\n",
    "        negative_pids = [passage_map[passages[\"passage_text\"][i]] for i in np.where(is_selected == 0)[0]]\n",
    "        while len(negative_pids) < nway:\n",
    "            n_to_add = nway - len(negative_pids)\n",
    "            if p_ptr + n_to_add >= len(pids_shuffled):\n",
    "                pids_shuffled = np.random.permutation(len(all_passages))\n",
    "                p_ptr = 0\n",
    "            pids_to_add = pids_shuffled[p_ptr : p_ptr + n_to_add]\n",
    "            if not positive_pid in pids_to_add:\n",
    "                negative_pids += pids_to_add.tolist()\n",
    "            p_ptr += n_to_add\n",
    "\n",
    "        triples.append([row[\"query_id\"], [positive_pid, 1.0], *[[pid, 0.0] for pid in negative_pids]])\n",
    "    with jsonlines.open(f\"../data/msmarco/triples_{split}.json\", \"w\") as fh:\n",
    "        for line in triples:\n",
    "            fh.write(line)"
   ]
  },
  {
   "cell_type": "code",
   "execution_count": null,
   "metadata": {},
   "outputs": [],
   "source": []
  }
 ],
 "metadata": {
  "kernelspec": {
   "display_name": "python310",
   "language": "python",
   "name": "python3"
  },
  "language_info": {
   "codemirror_mode": {
    "name": "ipython",
    "version": 3
   },
   "file_extension": ".py",
   "mimetype": "text/x-python",
   "name": "python",
   "nbconvert_exporter": "python",
   "pygments_lexer": "ipython3",
   "version": "3.10.13"
  }
 },
 "nbformat": 4,
 "nbformat_minor": 2
}
