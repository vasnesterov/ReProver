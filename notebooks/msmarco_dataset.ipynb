{
 "cells": [
  {
   "cell_type": "code",
   "execution_count": 1,
   "metadata": {},
   "outputs": [],
   "source": [
    "%load_ext autoreload\n",
    "%autoreload 2"
   ]
  },
  {
   "cell_type": "code",
   "execution_count": 2,
   "metadata": {},
   "outputs": [],
   "source": [
    "from datasets import load_dataset"
   ]
  },
  {
   "cell_type": "code",
   "execution_count": 3,
   "metadata": {},
   "outputs": [],
   "source": [
    "msmarco = load_dataset(\"ms_marco\", \"v1.1\")"
   ]
  },
  {
   "cell_type": "markdown",
   "metadata": {},
   "source": [
    "### Collection"
   ]
  },
  {
   "cell_type": "code",
   "execution_count": 4,
   "metadata": {},
   "outputs": [
    {
     "name": "stderr",
     "output_type": "stream",
     "text": [
      "100%|██████████| 10047/10047 [00:00<00:00, 311883.75it/s]\n",
      "100%|██████████| 82326/82326 [00:00<00:00, 277122.80it/s]\n",
      "100%|██████████| 9650/9650 [00:00<00:00, 257175.38it/s]\n"
     ]
    }
   ],
   "source": [
    "import tqdm\n",
    "\n",
    "\n",
    "all_passages = set()\n",
    "for split, ds in msmarco.items():\n",
    "    for row in tqdm.tqdm(ds[\"passages\"]):\n",
    "        for passage in row[\"passage_text\"]:\n",
    "            all_passages.add(passage)\n",
    "\n",
    "all_passages = sorted(all_passages)\n",
    "passage_map = {txt: i for i, txt in enumerate(all_passages)}"
   ]
  },
  {
   "cell_type": "code",
   "execution_count": 9,
   "metadata": {},
   "outputs": [],
   "source": [
    "import pandas as pd\n",
    "\n",
    "collection = pd.DataFrame(all_passages, columns=[\"passage\"])\n",
    "collection[\"pid\"] = list(range(len(all_passages)))\n",
    "collection = collection[[\"pid\", \"passage\"]]\n",
    "collection.to_csv(\"../data/msmarco/collection.tsv\", sep=\"\\t\", index=False, header=False)"
   ]
  },
  {
   "cell_type": "code",
   "execution_count": 6,
   "metadata": {},
   "outputs": [],
   "source": [
    "import pandas as pd\n",
    "collection = pd.read_csv('../data/msmarco/collection.tsv', sep='\\t', header=None)"
   ]
  },
  {
   "cell_type": "code",
   "execution_count": 7,
   "metadata": {},
   "outputs": [
    {
     "data": {
      "text/html": [
       "<div>\n",
       "<style scoped>\n",
       "    .dataframe tbody tr th:only-of-type {\n",
       "        vertical-align: middle;\n",
       "    }\n",
       "\n",
       "    .dataframe tbody tr th {\n",
       "        vertical-align: top;\n",
       "    }\n",
       "\n",
       "    .dataframe thead th {\n",
       "        text-align: right;\n",
       "    }\n",
       "</style>\n",
       "<table border=\"1\" class=\"dataframe\">\n",
       "  <thead>\n",
       "    <tr style=\"text-align: right;\">\n",
       "      <th></th>\n",
       "      <th>0</th>\n",
       "      <th>1</th>\n",
       "    </tr>\n",
       "  </thead>\n",
       "  <tbody>\n",
       "    <tr>\n",
       "      <th>0</th>\n",
       "      <td>0</td>\n",
       "      <td>! ! ! page 2. Oxygen in Equilibrium Dissolved ...</td>\n",
       "    </tr>\n",
       "    <tr>\n",
       "      <th>1</th>\n",
       "      <td>1</td>\n",
       "      <td>! 2! • CORONAL : [+coronal] consonants are pro...</td>\n",
       "    </tr>\n",
       "    <tr>\n",
       "      <th>2</th>\n",
       "      <td>2</td>\n",
       "      <td>! 6, - $. frenchY vegetableY sideY dishesY sid...</td>\n",
       "    </tr>\n",
       "    <tr>\n",
       "      <th>3</th>\n",
       "      <td>3</td>\n",
       "      <td>! 6, - $. veganY tortillaY wrapsY raw veganY v...</td>\n",
       "    </tr>\n",
       "    <tr>\n",
       "      <th>4</th>\n",
       "      <td>4</td>\n",
       "      <td>! An archetype is a term used to describe univ...</td>\n",
       "    </tr>\n",
       "    <tr>\n",
       "      <th>...</th>\n",
       "      <td>...</td>\n",
       "      <td>...</td>\n",
       "    </tr>\n",
       "    <tr>\n",
       "      <th>767670</th>\n",
       "      <td>767670</td>\n",
       "      <td>﻿﻿A.I.M.S. APPALACHIAN INVESTIGATORS OF MYSTER...</td>\n",
       "    </tr>\n",
       "    <tr>\n",
       "      <th>767671</th>\n",
       "      <td>767671</td>\n",
       "      <td>﻿﻿​​​​​​​​​​​​All Texel sheep originate from t...</td>\n",
       "    </tr>\n",
       "    <tr>\n",
       "      <th>767672</th>\n",
       "      <td>767672</td>\n",
       "      <td>﻿﻿﻿Thales of Miletus. Thales of Miletus (c. 62...</td>\n",
       "    </tr>\n",
       "    <tr>\n",
       "      <th>767673</th>\n",
       "      <td>767673</td>\n",
       "      <td>﻿﻿﻿Thales of Miletus. Thales of Miletus (c. 62...</td>\n",
       "    </tr>\n",
       "    <tr>\n",
       "      <th>767674</th>\n",
       "      <td>767674</td>\n",
       "      <td>😎 Face With Sunglasses — One of your best frie...</td>\n",
       "    </tr>\n",
       "  </tbody>\n",
       "</table>\n",
       "<p>767675 rows × 2 columns</p>\n",
       "</div>"
      ],
      "text/plain": [
       "             0                                                  1\n",
       "0            0  ! ! ! page 2. Oxygen in Equilibrium Dissolved ...\n",
       "1            1  ! 2! • CORONAL : [+coronal] consonants are pro...\n",
       "2            2  ! 6, - $. frenchY vegetableY sideY dishesY sid...\n",
       "3            3  ! 6, - $. veganY tortillaY wrapsY raw veganY v...\n",
       "4            4  ! An archetype is a term used to describe univ...\n",
       "...        ...                                                ...\n",
       "767670  767670  ﻿﻿A.I.M.S. APPALACHIAN INVESTIGATORS OF MYSTER...\n",
       "767671  767671  ﻿﻿​​​​​​​​​​​​All Texel sheep originate from t...\n",
       "767672  767672  ﻿﻿﻿Thales of Miletus. Thales of Miletus (c. 62...\n",
       "767673  767673  ﻿﻿﻿Thales of Miletus. Thales of Miletus (c. 62...\n",
       "767674  767674  😎 Face With Sunglasses — One of your best frie...\n",
       "\n",
       "[767675 rows x 2 columns]"
      ]
     },
     "execution_count": 7,
     "metadata": {},
     "output_type": "execute_result"
    }
   ],
   "source": [
    "collection"
   ]
  },
  {
   "cell_type": "markdown",
   "metadata": {},
   "source": [
    "### Queries"
   ]
  },
  {
   "cell_type": "code",
   "execution_count": 10,
   "metadata": {},
   "outputs": [
    {
     "name": "stderr",
     "output_type": "stream",
     "text": [
      "  0%|          | 0/10047 [00:00<?, ?it/s]"
     ]
    },
    {
     "name": "stderr",
     "output_type": "stream",
     "text": [
      "100%|██████████| 10047/10047 [00:00<00:00, 14579.90it/s]\n"
     ]
    },
    {
     "name": "stdout",
     "output_type": "stream",
     "text": [
      "10047\n"
     ]
    },
    {
     "name": "stderr",
     "output_type": "stream",
     "text": [
      "100%|██████████| 82326/82326 [00:05<00:00, 15017.72it/s]\n"
     ]
    },
    {
     "name": "stdout",
     "output_type": "stream",
     "text": [
      "82326\n"
     ]
    },
    {
     "name": "stderr",
     "output_type": "stream",
     "text": [
      "100%|██████████| 9650/9650 [00:00<00:00, 14610.26it/s]"
     ]
    },
    {
     "name": "stdout",
     "output_type": "stream",
     "text": [
      "9650\n"
     ]
    },
    {
     "name": "stderr",
     "output_type": "stream",
     "text": [
      "\n"
     ]
    }
   ],
   "source": [
    "import jsonlines\n",
    "\n",
    "queries_map = {}\n",
    "for split, ds in msmarco.items():\n",
    "    queries = []\n",
    "    for i, row in enumerate(tqdm.tqdm(ds)):\n",
    "        queries.append({\"qid\": i, \"question\": row[\"query\"]})\n",
    "        queries_map[row[\"query_id\"]] = i\n",
    "\n",
    "    print(len(queries))\n",
    "\n",
    "    if split == \"validation\":\n",
    "        split = \"val\"\n",
    "\n",
    "    with jsonlines.open(f\"../data/msmarco/queries_{split}.json\", \"w\") as fh:\n",
    "        for row in queries:\n",
    "            fh.write(row)"
   ]
  },
  {
   "cell_type": "markdown",
   "metadata": {},
   "source": [
    "### Triples"
   ]
  },
  {
   "cell_type": "code",
   "execution_count": 16,
   "metadata": {},
   "outputs": [
    {
     "name": "stderr",
     "output_type": "stream",
     "text": [
      "100%|██████████| 10047/10047 [00:00<00:00, 10626.86it/s]\n"
     ]
    },
    {
     "name": "stdout",
     "output_type": "stream",
     "text": [
      "10047\n"
     ]
    },
    {
     "name": "stderr",
     "output_type": "stream",
     "text": [
      "100%|██████████| 82326/82326 [00:08<00:00, 9914.96it/s] \n"
     ]
    },
    {
     "name": "stdout",
     "output_type": "stream",
     "text": [
      "82326\n"
     ]
    },
    {
     "name": "stderr",
     "output_type": "stream",
     "text": [
      "100%|██████████| 9650/9650 [00:00<00:00, 11201.61it/s]\n"
     ]
    },
    {
     "name": "stdout",
     "output_type": "stream",
     "text": [
      "9650\n"
     ]
    }
   ],
   "source": [
    "import numpy as np\n",
    "import tqdm\n",
    "\n",
    "np.random.seed(1234)\n",
    "\n",
    "\n",
    "nway = 64\n",
    "\n",
    "max_nway = 0\n",
    "for ds in msmarco.values():\n",
    "    max_nway = max(max_nway, max([len(x[\"passages\"][\"passage_text\"]) for x in ds]))\n",
    "\n",
    "nway = max_nway\n",
    "\n",
    "\n",
    "pids_shuffled = np.random.permutation(len(all_passages))\n",
    "p_ptr = 0\n",
    "\n",
    "n_random = 0\n",
    "for split, ds in msmarco.items():\n",
    "    triples = []\n",
    "\n",
    "    for row in tqdm.tqdm(ds):\n",
    "        passages = row[\"passages\"]\n",
    "        n_passsages = len(passages[\"is_selected\"])\n",
    "\n",
    "        positive_pid = None\n",
    "        negative_pids = []\n",
    "        for i in range(n_passsages):\n",
    "            if passages[\"is_selected\"]:\n",
    "                positive_pid = passage_map.get(passages[\"passage_text\"][i], None)\n",
    "            else:\n",
    "                negative_pids.append(passage_map.get(passages[\"passage_text\"][i]))\n",
    "\n",
    "        if positive_pid is None:\n",
    "            continue\n",
    "\n",
    "        while len(negative_pids) < nway:\n",
    "            n_to_add = nway - len(negative_pids)\n",
    "            if p_ptr + n_to_add >= len(pids_shuffled):\n",
    "                pids_shuffled = np.random.permutation(len(all_passages))\n",
    "                p_ptr = 0\n",
    "            pids_to_add = pids_shuffled[p_ptr : p_ptr + n_to_add]\n",
    "            if not positive_pid in pids_to_add:\n",
    "                negative_pids += pids_to_add.tolist()\n",
    "            p_ptr += n_to_add\n",
    "            n_random + n_to_add\n",
    "\n",
    "        triples.append([queries_map[row[\"query_id\"]], [positive_pid, 1.0], *[[pid, 0.0] for pid in negative_pids]])\n",
    "\n",
    "    if split == \"validation\":\n",
    "        split = \"val\"\n",
    "\n",
    "    print(len(triples))\n",
    "\n",
    "    with jsonlines.open(f\"../data/msmarco/triples_{split}.json\", \"w\") as fh:\n",
    "        for line in triples:\n",
    "            fh.write(line)"
   ]
  },
  {
   "cell_type": "code",
   "execution_count": 16,
   "metadata": {},
   "outputs": [],
   "source": [
    "import jsonlines\n",
    "\n",
    "triples = []\n",
    "with jsonlines.open('../data/msmarco/triples_train.json') as fh:\n",
    "    for line in fh:\n",
    "        triples.append(line)\n",
    "\n",
    "queries = []\n",
    "with jsonlines.open('../data/msmarco/queries_train.json') as fh:\n",
    "    for line in fh:\n",
    "        queries.append(line)"
   ]
  },
  {
   "cell_type": "code",
   "execution_count": 18,
   "metadata": {},
   "outputs": [
    {
     "data": {
      "text/plain": [
       "(82325, 82325)"
      ]
     },
     "execution_count": 18,
     "metadata": {},
     "output_type": "execute_result"
    }
   ],
   "source": [
    "max([x[0] for x in triples]), max([x['qid'] for x in queries])"
   ]
  },
  {
   "cell_type": "code",
   "execution_count": 21,
   "metadata": {},
   "outputs": [
    {
     "data": {
      "text/plain": [
       "(767674, 767674)"
      ]
     },
     "execution_count": 21,
     "metadata": {},
     "output_type": "execute_result"
    }
   ],
   "source": [
    "max([max([x[0] for x in t[1:]]) for t in triples]), collection[0].max()"
   ]
  }
 ],
 "metadata": {
  "kernelspec": {
   "display_name": "python310",
   "language": "python",
   "name": "python3"
  },
  "language_info": {
   "codemirror_mode": {
    "name": "ipython",
    "version": 3
   },
   "file_extension": ".py",
   "mimetype": "text/x-python",
   "name": "python",
   "nbconvert_exporter": "python",
   "pygments_lexer": "ipython3",
   "version": "3.10.13"
  }
 },
 "nbformat": 4,
 "nbformat_minor": 2
}
