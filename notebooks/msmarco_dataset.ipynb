{
 "cells": [
  {
   "cell_type": "code",
   "execution_count": 1,
   "metadata": {},
   "outputs": [],
   "source": [
    "%load_ext autoreload\n",
    "%autoreload 2"
   ]
  },
  {
   "cell_type": "code",
   "execution_count": 2,
   "metadata": {},
   "outputs": [],
   "source": [
    "from datasets import load_dataset"
   ]
  },
  {
   "cell_type": "code",
   "execution_count": 3,
   "metadata": {},
   "outputs": [],
   "source": [
    "msmarco = load_dataset(\"ms_marco\", \"v1.1\")"
   ]
  },
  {
   "cell_type": "markdown",
   "metadata": {},
   "source": [
    "### Collection"
   ]
  },
  {
   "cell_type": "code",
   "execution_count": 4,
   "metadata": {},
   "outputs": [
    {
     "name": "stderr",
     "output_type": "stream",
     "text": [
      " 61%|██████    | 6151/10047 [00:00<00:00, 307862.24it/s]\n",
      "  0%|          | 0/82326 [00:00<?, ?it/s]\n",
      "  0%|          | 0/9650 [00:00<?, ?it/s]\n"
     ]
    }
   ],
   "source": [
    "import tqdm\n",
    "\n",
    "N = 50000\n",
    "\n",
    "all_passages = set()\n",
    "for split, ds in msmarco.items():\n",
    "    for row in tqdm.tqdm(ds[\"passages\"]):\n",
    "        for passage in row[\"passage_text\"]:\n",
    "            all_passages.add(passage)\n",
    "        if len(all_passages) >= N:\n",
    "            break\n",
    "\n",
    "all_passages = sorted(all_passages)\n",
    "passage_map = {txt: i for i, txt in enumerate(all_passages)}"
   ]
  },
  {
   "cell_type": "code",
   "execution_count": 5,
   "metadata": {},
   "outputs": [],
   "source": [
    "import pandas as pd\n",
    "\n",
    "collection = pd.DataFrame(all_passages, columns=[\"passage\"])\n",
    "collection[\"pid\"] = list(range(len(all_passages)))\n",
    "collection = collection[[\"pid\", \"passage\"]]\n",
    "collection.to_csv(\"../data/msmarco/collection.tsv\", sep=\"\\t\", index=False, header=False)"
   ]
  },
  {
   "cell_type": "markdown",
   "metadata": {},
   "source": [
    "### Queries"
   ]
  },
  {
   "cell_type": "code",
   "execution_count": 6,
   "metadata": {},
   "outputs": [
    {
     "name": "stderr",
     "output_type": "stream",
     "text": [
      "  0%|          | 0/10047 [00:00<?, ?it/s]"
     ]
    },
    {
     "name": "stderr",
     "output_type": "stream",
     "text": [
      "100%|██████████| 10047/10047 [00:00<00:00, 14421.82it/s]\n",
      " 61%|██████    | 49999/82326 [00:03<00:02, 14977.84it/s]\n",
      "100%|██████████| 9650/9650 [00:00<00:00, 15080.75it/s]\n"
     ]
    }
   ],
   "source": [
    "import jsonlines\n",
    "\n",
    "\n",
    "for split, ds in msmarco.items():\n",
    "    queries = []\n",
    "    for row in tqdm.tqdm(ds):\n",
    "        queries.append({\"qid\": row[\"query_id\"], \"question\": row[\"query\"]})\n",
    "\n",
    "        if len(queries) >= N:\n",
    "            break\n",
    "\n",
    "    with jsonlines.open(f\"../data/msmarco/queries_{split}.json\", \"w\") as fh:\n",
    "        for row in queries:\n",
    "            fh.write(row)"
   ]
  },
  {
   "cell_type": "markdown",
   "metadata": {},
   "source": [
    "### Triples"
   ]
  },
  {
   "cell_type": "code",
   "execution_count": 7,
   "metadata": {},
   "outputs": [
    {
     "name": "stderr",
     "output_type": "stream",
     "text": [
      "  0%|          | 0/10047 [00:00<?, ?it/s]"
     ]
    },
    {
     "name": "stderr",
     "output_type": "stream",
     "text": [
      "100%|██████████| 10047/10047 [00:01<00:00, 8272.37it/s]\n",
      "100%|██████████| 82326/82326 [00:06<00:00, 12828.46it/s]\n",
      "100%|██████████| 9650/9650 [00:00<00:00, 13043.20it/s]\n"
     ]
    }
   ],
   "source": [
    "import numpy as np\n",
    "import tqdm\n",
    "\n",
    "np.random.seed(1234)\n",
    "\n",
    "\n",
    "nway = 64\n",
    "pids_shuffled = np.random.permutation(len(all_passages))\n",
    "p_ptr = 0\n",
    "for split, ds in msmarco.items():\n",
    "    triples = []\n",
    "    if split == \"validation\":\n",
    "        split = \"val\"\n",
    "    for row in tqdm.tqdm(ds):\n",
    "        passages = row[\"passages\"]\n",
    "        is_selected = np.array(passages[\"is_selected\"], dtype=bool)\n",
    "        if not is_selected.sum():\n",
    "            continue\n",
    "        else:\n",
    "            positive_pid = passage_map.get(passages[\"passage_text\"][np.where(is_selected)[0][0]], None)\n",
    "            if positive_pid is None:\n",
    "                continue\n",
    "        negative_pids = [passage_map.get(passages[\"passage_text\"][i], None) for i in np.where(is_selected == 0)[0]]\n",
    "        negative_pids = [pid for pid in negative_pids if pid is not None]\n",
    "        while len(negative_pids) < nway:\n",
    "            n_to_add = nway - len(negative_pids)\n",
    "            if p_ptr + n_to_add >= len(pids_shuffled):\n",
    "                pids_shuffled = np.random.permutation(len(all_passages))\n",
    "                p_ptr = 0\n",
    "            pids_to_add = pids_shuffled[p_ptr : p_ptr + n_to_add]\n",
    "            if not positive_pid in pids_to_add:\n",
    "                negative_pids += pids_to_add.tolist()\n",
    "            p_ptr += n_to_add\n",
    "\n",
    "        triples.append([row[\"query_id\"], [positive_pid, 1.0], *[[pid, 0.0] for pid in negative_pids]])\n",
    "    with jsonlines.open(f\"../data/msmarco/triples_{split}.json\", \"w\") as fh:\n",
    "        for line in triples:\n",
    "            fh.write(line)"
   ]
  },
  {
   "cell_type": "code",
   "execution_count": null,
   "metadata": {},
   "outputs": [],
   "source": []
  }
 ],
 "metadata": {
  "kernelspec": {
   "display_name": "python310",
   "language": "python",
   "name": "python3"
  },
  "language_info": {
   "codemirror_mode": {
    "name": "ipython",
    "version": 3
   },
   "file_extension": ".py",
   "mimetype": "text/x-python",
   "name": "python",
   "nbconvert_exporter": "python",
   "pygments_lexer": "ipython3",
   "version": "3.10.13"
  }
 },
 "nbformat": 4,
 "nbformat_minor": 2
}
