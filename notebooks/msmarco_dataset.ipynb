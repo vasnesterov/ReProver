{
 "cells": [
  {
   "cell_type": "code",
   "execution_count": 1,
   "metadata": {},
   "outputs": [],
   "source": [
    "%load_ext autoreload\n",
    "%autoreload 2"
   ]
  },
  {
   "cell_type": "code",
   "execution_count": 2,
   "metadata": {},
   "outputs": [],
   "source": [
    "from datasets import load_dataset"
   ]
  },
  {
   "cell_type": "code",
   "execution_count": 3,
   "metadata": {},
   "outputs": [],
   "source": [
    "msmarco = load_dataset(\"ms_marco\", \"v1.1\")"
   ]
  },
  {
   "cell_type": "markdown",
   "metadata": {},
   "source": [
    "### Collection"
   ]
  },
  {
   "cell_type": "code",
   "execution_count": 16,
   "metadata": {},
   "outputs": [
    {
     "name": "stderr",
     "output_type": "stream",
     "text": [
      "100%|██████████| 10047/10047 [00:00<00:00, 299591.01it/s]\n",
      " 11%|█         | 8689/82326 [00:00<00:00, 288564.93it/s]\n",
      "  0%|          | 0/9650 [00:00<?, ?it/s]\n"
     ]
    }
   ],
   "source": [
    "import tqdm\n",
    "\n",
    "N = 150000\n",
    "\n",
    "all_passages = set()\n",
    "for split, ds in msmarco.items():\n",
    "    for row in tqdm.tqdm(ds[\"passages\"]):\n",
    "        for passage in row[\"passage_text\"]:\n",
    "            all_passages.add(passage)\n",
    "        if len(all_passages) >= N:\n",
    "            break\n",
    "\n",
    "all_passages = sorted(all_passages)\n",
    "passage_map = {txt: i for i, txt in enumerate(all_passages)}"
   ]
  },
  {
   "cell_type": "code",
   "execution_count": 17,
   "metadata": {},
   "outputs": [],
   "source": [
    "import pandas as pd\n",
    "\n",
    "collection = pd.DataFrame(all_passages, columns=[\"passage\"])\n",
    "collection[\"pid\"] = list(range(len(all_passages)))\n",
    "collection = collection[[\"pid\", \"passage\"]]\n",
    "collection.to_csv(\"../data/msmarco/collection.tsv\", sep=\"\\t\", index=False, header=False)"
   ]
  },
  {
   "cell_type": "markdown",
   "metadata": {},
   "source": [
    "### Queries"
   ]
  },
  {
   "cell_type": "code",
   "execution_count": 18,
   "metadata": {},
   "outputs": [
    {
     "name": "stderr",
     "output_type": "stream",
     "text": [
      "  0%|          | 0/10047 [00:00<?, ?it/s]"
     ]
    },
    {
     "name": "stderr",
     "output_type": "stream",
     "text": [
      "100%|██████████| 10047/10047 [00:00<00:00, 14337.02it/s]\n"
     ]
    },
    {
     "name": "stdout",
     "output_type": "stream",
     "text": [
      "10047\n"
     ]
    },
    {
     "name": "stderr",
     "output_type": "stream",
     "text": [
      "100%|██████████| 82326/82326 [00:05<00:00, 15197.83it/s]\n"
     ]
    },
    {
     "name": "stdout",
     "output_type": "stream",
     "text": [
      "82326\n"
     ]
    },
    {
     "name": "stderr",
     "output_type": "stream",
     "text": [
      "100%|██████████| 9650/9650 [00:00<00:00, 15230.17it/s]"
     ]
    },
    {
     "name": "stdout",
     "output_type": "stream",
     "text": [
      "9650\n"
     ]
    },
    {
     "name": "stderr",
     "output_type": "stream",
     "text": [
      "\n"
     ]
    }
   ],
   "source": [
    "import jsonlines\n",
    "\n",
    "queries_map = {}\n",
    "for split, ds in msmarco.items():\n",
    "    queries = []\n",
    "    for i, row in enumerate(tqdm.tqdm(ds)):\n",
    "        queries.append({\"qid\": i, \"question\": row[\"query\"]})\n",
    "        queries_map[row[\"query_id\"]] = i\n",
    "\n",
    "    print(len(queries))\n",
    "\n",
    "    if split == \"validation\":\n",
    "        split = \"val\"\n",
    "\n",
    "    with jsonlines.open(f\"../data/msmarco/queries_{split}.json\", \"w\") as fh:\n",
    "        for row in queries:\n",
    "            fh.write(row)"
   ]
  },
  {
   "cell_type": "markdown",
   "metadata": {},
   "source": [
    "### Triples"
   ]
  },
  {
   "cell_type": "code",
   "execution_count": 19,
   "metadata": {},
   "outputs": [
    {
     "name": "stderr",
     "output_type": "stream",
     "text": [
      "  0%|          | 0/10047 [00:00<?, ?it/s]"
     ]
    },
    {
     "name": "stderr",
     "output_type": "stream",
     "text": [
      "100%|██████████| 10047/10047 [00:01<00:00, 6785.86it/s]\n"
     ]
    },
    {
     "name": "stdout",
     "output_type": "stream",
     "text": [
      "9706\n"
     ]
    },
    {
     "name": "stderr",
     "output_type": "stream",
     "text": [
      "100%|██████████| 82326/82326 [00:07<00:00, 11670.07it/s]\n"
     ]
    },
    {
     "name": "stdout",
     "output_type": "stream",
     "text": [
      "11956\n"
     ]
    },
    {
     "name": "stderr",
     "output_type": "stream",
     "text": [
      "100%|██████████| 9650/9650 [00:00<00:00, 13090.48it/s]"
     ]
    },
    {
     "name": "stdout",
     "output_type": "stream",
     "text": [
      "454\n"
     ]
    },
    {
     "name": "stderr",
     "output_type": "stream",
     "text": [
      "\n"
     ]
    }
   ],
   "source": [
    "import numpy as np\n",
    "import tqdm\n",
    "\n",
    "np.random.seed(1234)\n",
    "\n",
    "\n",
    "nway = 64\n",
    "pids_shuffled = np.random.permutation(len(all_passages))\n",
    "p_ptr = 0\n",
    "skipped = {\"qid\": 0, \"pid\": 0}\n",
    "for split, ds in msmarco.items():\n",
    "    triples = []\n",
    "\n",
    "    for row in tqdm.tqdm(ds):\n",
    "\n",
    "        if not row[\"query_id\"] in queries_map:\n",
    "            if split == \"train\":\n",
    "                skipped[\"qid\"] += 1\n",
    "            continue\n",
    "\n",
    "        passages = row[\"passages\"]\n",
    "        is_selected = np.array(passages[\"is_selected\"], dtype=bool)\n",
    "        if not is_selected.sum():\n",
    "            continue\n",
    "        else:\n",
    "            positive_pid = passage_map.get(passages[\"passage_text\"][np.where(is_selected)[0][0]], None)\n",
    "            if positive_pid is None:\n",
    "                if split == \"train\":\n",
    "                    skipped[\"pid\"] += 1\n",
    "                continue\n",
    "        negative_pids = [passage_map.get(passages[\"passage_text\"][i], None) for i in np.where(is_selected == 0)[0]]\n",
    "        negative_pids = [pid for pid in negative_pids if pid is not None]\n",
    "        while len(negative_pids) < nway:\n",
    "            n_to_add = nway - len(negative_pids)\n",
    "            if p_ptr + n_to_add >= len(pids_shuffled):\n",
    "                pids_shuffled = np.random.permutation(len(all_passages))\n",
    "                p_ptr = 0\n",
    "            pids_to_add = pids_shuffled[p_ptr : p_ptr + n_to_add]\n",
    "            if not positive_pid in pids_to_add:\n",
    "                negative_pids += pids_to_add.tolist()\n",
    "            p_ptr += n_to_add\n",
    "\n",
    "        triples.append([queries_map[row[\"query_id\"]], [positive_pid, 1.0], *[[pid, 0.0] for pid in negative_pids]])\n",
    "\n",
    "    if split == \"validation\":\n",
    "        split = \"val\"\n",
    "\n",
    "    print(len(triples))\n",
    "\n",
    "    with jsonlines.open(f\"../data/msmarco/triples_{split}.json\", \"w\") as fh:\n",
    "        for line in triples:\n",
    "            fh.write(line)"
   ]
  },
  {
   "cell_type": "code",
   "execution_count": null,
   "metadata": {},
   "outputs": [],
   "source": []
  }
 ],
 "metadata": {
  "kernelspec": {
   "display_name": "python310",
   "language": "python",
   "name": "python3"
  },
  "language_info": {
   "codemirror_mode": {
    "name": "ipython",
    "version": 3
   },
   "file_extension": ".py",
   "mimetype": "text/x-python",
   "name": "python",
   "nbconvert_exporter": "python",
   "pygments_lexer": "ipython3",
   "version": "3.10.13"
  }
 },
 "nbformat": 4,
 "nbformat_minor": 2
}
