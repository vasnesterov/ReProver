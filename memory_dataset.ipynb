{
 "cells": [
  {
   "cell_type": "code",
   "execution_count": 7,
   "id": "85398402-bf02-4248-be38-8ea23cc806a8",
   "metadata": {},
   "outputs": [],
   "source": [
    "from datasets import load_dataset\n",
    "\n",
    "ds = load_dataset(\"codeparrot/github-code\", streaming=True, split=\"train\", languages=[\"Dockerfile\"])\n",
    "obj = next(iter(ds))"
   ]
  },
  {
   "cell_type": "code",
   "execution_count": 10,
   "id": "a2766fd0-4c0f-43fc-8b18-1bcf3c311003",
   "metadata": {},
   "outputs": [
    {
     "name": "stdout",
     "output_type": "stream",
     "text": [
      "'use strict';\n",
      "\n",
      "var clear          = require('es5-ext/array/#/clear')\n",
      "  , eIndexOf       = require('es5-ext/array/#/e-index-of')\n",
      "  , setPrototypeOf = require('es5-ext/object/set-prototype-of')\n",
      "  , callable       = require('es5-ext/object/valid-callable')\n",
      "  , d              = require('d')\n",
      "  , ee             = require('event-emitter')\n",
      "  , Symbol         = require('es6-symbol')\n",
      "  , iterator       = require('es6-iterator/valid-iterable')\n",
      "  , forOf          = require('es6-iterator/for-of')\n",
      "  , Iterator       = require('./lib/iterator')\n",
      "  , isNative       = require('./is-native-implemented')\n",
      "\n",
      "  , call = Function.prototype.call, defineProperty = Object.defineProperty\n",
      "  , SetPoly, getValues;\n",
      "\n",
      "module.exports = SetPoly = function (/*iterable*/) {\n",
      "\tvar iterable = arguments[0];\n",
      "\tif (!(this instanceof SetPoly)) return new SetPoly(iterable);\n",
      "\tif (this.__setData__ !== undefined) {\n",
      "\t\tthrow new TypeError(this + \" cannot be reinitialized\");\n",
      "\t}\n",
      "\tif (iterable != null) iterator(iterable);\n",
      "\tdefineProperty(this, '__setData__', d('c', []));\n",
      "\tif (!iterable) return;\n",
      "\tforOf(iterable, function (value) {\n",
      "\t\tif (eIndexOf.call(this, value) !== -1) return;\n",
      "\t\tthis.push(value);\n",
      "\t}, this.__setData__);\n",
      "};\n",
      "\n",
      "if (isNative) {\n",
      "\tif (setPrototypeOf) setPrototypeOf(SetPoly, Set);\n",
      "\tSetPoly.prototype = Object.create(Set.prototype, {\n",
      "\t\tconstructor: d(SetPoly)\n",
      "\t});\n",
      "}\n",
      "\n",
      "ee(Object.defineProperties(SetPoly.prototype, {\n",
      "\tadd: d(function (value) {\n",
      "\t\tif (this.has(value)) return this;\n",
      "\t\tthis.emit('_add', this.__setData__.push(value) - 1, value);\n",
      "\t\treturn this;\n",
      "\t}),\n",
      "\tclear: d(function () {\n",
      "\t\tif (!this.__setData__.length) return;\n",
      "\t\tclear.call(this.__setData__);\n",
      "\t\tthis.emit('_clear');\n",
      "\t}),\n",
      "\tdelete: d(function (value) {\n",
      "\t\tvar index = eIndexOf.call(this.__setData__, value);\n",
      "\t\tif (index === -1) return false;\n",
      "\t\tthis.__setData__.splice(index, 1);\n",
      "\t\tthis.emit('_delete', index, value);\n",
      "\t\treturn true;\n",
      "\t}),\n",
      "\tentries: d(function () { return new Iterator(this, 'key+value'); }),\n",
      "\tforEach: d(function (cb/*, thisArg*/) {\n",
      "\t\tvar thisArg = arguments[1], iterator, result, value;\n",
      "\t\tcallable(cb);\n",
      "\t\titerator = this.values();\n",
      "\t\tresult = iterator._next();\n",
      "\t\twhile (result !== undefined) {\n",
      "\t\t\tvalue = iterator._resolve(result);\n",
      "\t\t\tcall.call(cb, thisArg, value, value, this);\n",
      "\t\t\tresult = iterator._next();\n",
      "\t\t}\n",
      "\t}),\n",
      "\thas: d(function (value) {\n",
      "\t\treturn (eIndexOf.call(this.__setData__, value) !== -1);\n",
      "\t}),\n",
      "\tkeys: d(getValues = function () { return this.values(); }),\n",
      "\tsize: d.gs(function () { return this.__setData__.length; }),\n",
      "\tvalues: d(function () { return new Iterator(this); }),\n",
      "\ttoString: d(function () { return '[object Set]'; })\n",
      "}));\n",
      "defineProperty(SetPoly.prototype, Symbol.iterator, d(getValues));\n",
      "defineProperty(SetPoly.prototype, Symbol.toStringTag, d('c', 'Set'));\n",
      "\n"
     ]
    }
   ],
   "source": [
    "print(obj['code'])"
   ]
  },
  {
   "cell_type": "code",
   "execution_count": null,
   "id": "0c570b4e-3dcc-4a82-9e57-3ac727eec6ff",
   "metadata": {},
   "outputs": [],
   "source": []
  }
 ],
 "metadata": {
  "kernelspec": {
   "display_name": "Python 3 (ipykernel)",
   "language": "python",
   "name": "python3"
  },
  "language_info": {
   "codemirror_mode": {
    "name": "ipython",
    "version": 3
   },
   "file_extension": ".py",
   "mimetype": "text/x-python",
   "name": "python",
   "nbconvert_exporter": "python",
   "pygments_lexer": "ipython3",
   "version": "3.10.12"
  }
 },
 "nbformat": 4,
 "nbformat_minor": 5
}
